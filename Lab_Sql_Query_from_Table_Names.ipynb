{
  "cells": [
    {
      "cell_type": "markdown",
      "id": "00a57394-53dd-47cd-a5e7-6e7122bbb0f6",
      "metadata": {
        "id": "00a57394-53dd-47cd-a5e7-6e7122bbb0f6"
      },
      "source": [
        "# SQL query from table names"
      ]
    },
    {
      "cell_type": "markdown",
      "id": "86bc2813-763c-49f2-9f5d-e1f87a20556f",
      "metadata": {
        "id": "86bc2813-763c-49f2-9f5d-e1f87a20556f"
      },
      "source": [
        "In This notebook we are going to test if using just the name of the table, and a shord definition of its contect we can use a model like GTP3.5-Turbo to select which tables are necessary to create a SQL Order to answer the user petition."
      ]
    },
    {
      "cell_type": "code",
      "execution_count": null,
      "id": "7fbbdf5b-4d7f-4496-8f40-9d15ea46d023",
      "metadata": {
        "id": "7fbbdf5b-4d7f-4496-8f40-9d15ea46d023",
        "colab": {
          "base_uri": "https://localhost:8080/"
        },
        "outputId": "e86f51c2-70a1-46af-9b46-b1ddb0dfb884"
      },
      "outputs": [
        {
          "output_type": "stream",
          "name": "stdout",
          "text": [
            "Collecting python-dotenv\n",
            "  Downloading python_dotenv-1.1.0-py3-none-any.whl.metadata (24 kB)\n",
            "Downloading python_dotenv-1.1.0-py3-none-any.whl (20 kB)\n",
            "Installing collected packages: python-dotenv\n",
            "Successfully installed python-dotenv-1.1.0\n",
            "Requirement already satisfied: openai in /usr/local/lib/python3.11/dist-packages (1.68.2)\n",
            "Requirement already satisfied: anyio<5,>=3.5.0 in /usr/local/lib/python3.11/dist-packages (from openai) (4.9.0)\n",
            "Requirement already satisfied: distro<2,>=1.7.0 in /usr/local/lib/python3.11/dist-packages (from openai) (1.9.0)\n",
            "Requirement already satisfied: httpx<1,>=0.23.0 in /usr/local/lib/python3.11/dist-packages (from openai) (0.28.1)\n",
            "Requirement already satisfied: jiter<1,>=0.4.0 in /usr/local/lib/python3.11/dist-packages (from openai) (0.9.0)\n",
            "Requirement already satisfied: pydantic<3,>=1.9.0 in /usr/local/lib/python3.11/dist-packages (from openai) (2.10.6)\n",
            "Requirement already satisfied: sniffio in /usr/local/lib/python3.11/dist-packages (from openai) (1.3.1)\n",
            "Requirement already satisfied: tqdm>4 in /usr/local/lib/python3.11/dist-packages (from openai) (4.67.1)\n",
            "Requirement already satisfied: typing-extensions<5,>=4.11 in /usr/local/lib/python3.11/dist-packages (from openai) (4.12.2)\n",
            "Requirement already satisfied: idna>=2.8 in /usr/local/lib/python3.11/dist-packages (from anyio<5,>=3.5.0->openai) (3.10)\n",
            "Requirement already satisfied: certifi in /usr/local/lib/python3.11/dist-packages (from httpx<1,>=0.23.0->openai) (2025.1.31)\n",
            "Requirement already satisfied: httpcore==1.* in /usr/local/lib/python3.11/dist-packages (from httpx<1,>=0.23.0->openai) (1.0.7)\n",
            "Requirement already satisfied: h11<0.15,>=0.13 in /usr/local/lib/python3.11/dist-packages (from httpcore==1.*->httpx<1,>=0.23.0->openai) (0.14.0)\n",
            "Requirement already satisfied: annotated-types>=0.6.0 in /usr/local/lib/python3.11/dist-packages (from pydantic<3,>=1.9.0->openai) (0.7.0)\n",
            "Requirement already satisfied: pydantic-core==2.27.2 in /usr/local/lib/python3.11/dist-packages (from pydantic<3,>=1.9.0->openai) (2.27.2)\n"
          ]
        }
      ],
      "source": [
        "# Step 1: Install the required packages\n",
        "!pip install python-dotenv  # Installs python-dotenv for loading .env\n",
        "!pip install openai         # Installs the OpenAI library\n",
        "\n",
        "# Step 2: Import necessary libraries\n",
        "import os\n",
        "from openai import OpenAI\n",
        "from dotenv import load_dotenv"
      ]
    },
    {
      "cell_type": "code",
      "source": [
        "_ = load_dotenv(\"/content/env\") # read local .env file\n",
        "\n",
        "OPENAI_API_KEY  = os.getenv('OPENAI_API_KEY')"
      ],
      "metadata": {
        "id": "zXlqOusgDMy2"
      },
      "id": "zXlqOusgDMy2",
      "execution_count": null,
      "outputs": []
    },
    {
      "cell_type": "code",
      "source": [
        "#Functio to call the model.\n",
        "def return_OAI(user_message):\n",
        "    client = OpenAI(\n",
        "    # This is the default and can be omitted\n",
        "    api_key=OPENAI_API_KEY,\n",
        ")\n",
        "    context = []\n",
        "    context.append({'role':'system', \"content\": user_message})\n",
        "\n",
        "    response = client.chat.completions.create(\n",
        "            model=\"gpt-3.5-turbo\",\n",
        "            messages=context,\n",
        "            temperature=0,\n",
        "        )\n",
        "\n",
        "    return (response.choices[0].message.content)"
      ],
      "metadata": {
        "id": "hRXsa4-LDQdl"
      },
      "id": "hRXsa4-LDQdl",
      "execution_count": null,
      "outputs": []
    },
    {
      "cell_type": "code",
      "execution_count": null,
      "id": "e480bbfb-9a80-4ea6-b792-067e63ae3148",
      "metadata": {
        "id": "e480bbfb-9a80-4ea6-b792-067e63ae3148"
      },
      "outputs": [],
      "source": [
        "#Functio to call the model.\n",
        "def return_OAI(user_message):\n",
        "    client = OpenAI(\n",
        "    # This is the default and can be omitted\n",
        "    api_key=OPENAI_API_KEY,\n",
        ")\n",
        "    context = []\n",
        "    context.append({'role':'system', \"content\": user_message})\n",
        "\n",
        "    response = client.chat.completions.create(\n",
        "            model=\"gpt-3.5-turbo\",\n",
        "            messages=context,\n",
        "            temperature=0,\n",
        "        )\n",
        "\n",
        "    return (response.choices[0].message.content)"
      ]
    },
    {
      "cell_type": "code",
      "execution_count": null,
      "id": "6d5d2bdc-d822-4ed8-815e-b3f223730f15",
      "metadata": {
        "id": "6d5d2bdc-d822-4ed8-815e-b3f223730f15",
        "outputId": "0efc88f0-2ab6-40cc-b591-7458dafc91fc",
        "colab": {
          "base_uri": "https://localhost:8080/"
        }
      },
      "outputs": [
        {
          "output_type": "stream",
          "name": "stdout",
          "text": [
            "       table                                         definition\n",
            "0  employees  Employee information, name, ID, department, an...\n",
            "1     salary  Salary details for each year, including bonuse...\n",
            "2    studies  Educational studies, name of the institution, ...\n"
          ]
        }
      ],
      "source": [
        "import pandas as pd\n",
        "\n",
        "# Table and definitions sample\n",
        "data = {\n",
        "    'table': ['employees', 'salary', 'studies'],\n",
        "    'definition': [\n",
        "        'Employee information, name, ID, department, and hire date',\n",
        "        'Salary details for each year, including bonuses and deductions',\n",
        "        'Educational studies, name of the institution, degree, and graduation year'\n",
        "    ]\n",
        "}\n",
        "\n",
        "df = pd.DataFrame(data)\n",
        "print(df)"
      ]
    },
    {
      "cell_type": "code",
      "execution_count": null,
      "id": "009e681c-d95d-4c9c-b044-5bfd76e3ad95",
      "metadata": {
        "id": "009e681c-d95d-4c9c-b044-5bfd76e3ad95"
      },
      "outputs": [],
      "source": [
        "text_tables = '\\n'.join([f\"{row['table']}: {row['definition']}\" for index, row in df.iterrows()])"
      ]
    },
    {
      "cell_type": "code",
      "execution_count": null,
      "id": "fe03ac25-8d02-4cd1-99a1-be4220c6fd2d",
      "metadata": {
        "id": "fe03ac25-8d02-4cd1-99a1-be4220c6fd2d",
        "outputId": "80f24b82-126e-4b56-fd32-7875d47198b5",
        "colab": {
          "base_uri": "https://localhost:8080/"
        }
      },
      "outputs": [
        {
          "output_type": "stream",
          "name": "stdout",
          "text": [
            "employees: Employee information, name, ID, department, and hire date\n",
            "salary: Salary details for each year, including bonuses and deductions\n",
            "studies: Educational studies, name of the institution, degree, and graduation year\n"
          ]
        }
      ],
      "source": [
        "print(text_tables)"
      ]
    },
    {
      "cell_type": "code",
      "execution_count": null,
      "id": "c7e275ae-f20d-4134-b9b6-d8677dfb544c",
      "metadata": {
        "id": "c7e275ae-f20d-4134-b9b6-d8677dfb544c"
      },
      "outputs": [],
      "source": [
        "prompt_question_tables = \"\"\"\n",
        "Given the following tables and their content definitions,\n",
        "###Tables\n",
        "{tables}\n",
        "\n",
        "Tell me which tables would be necessary to query with SQL to address the user's question below.\n",
        "Return the table names in a json format.\n",
        "###User Questyion:\n",
        "{question}\n",
        "\"\"\"\n"
      ]
    },
    {
      "cell_type": "code",
      "execution_count": null,
      "id": "b1cb5957-2df2-4e5e-9e6a-ace955c9817e",
      "metadata": {
        "id": "b1cb5957-2df2-4e5e-9e6a-ace955c9817e"
      },
      "outputs": [],
      "source": [
        "# Creating the prompt with a sample question\n",
        "pqt1 = prompt_question_tables.format(\n",
        "    tables=text_tables,\n",
        "    question=\"Which employees with a computer science degree earned more than $100,000 in 2023?\"\n",
        ")"
      ]
    },
    {
      "cell_type": "code",
      "execution_count": null,
      "id": "10d30f2b-6c23-4fd6-8038-840fba784cce",
      "metadata": {
        "id": "10d30f2b-6c23-4fd6-8038-840fba784cce",
        "outputId": "831d5c83-3477-4a59-ee3f-870bbe45b070",
        "scrolled": true,
        "colab": {
          "base_uri": "https://localhost:8080/"
        }
      },
      "outputs": [
        {
          "output_type": "stream",
          "name": "stdout",
          "text": [
            "{\n",
            "    \"tables\": [\"employees\", \"salary\", \"studies\"]\n",
            "}\n"
          ]
        }
      ],
      "source": [
        "print(return_OAI(pqt1))"
      ]
    },
    {
      "cell_type": "code",
      "execution_count": null,
      "id": "57e07083-be8f-4cd0-95bd-c4b909422c6b",
      "metadata": {
        "id": "57e07083-be8f-4cd0-95bd-c4b909422c6b"
      },
      "outputs": [],
      "source": [
        "pqt3 = prompt_question_tables.format(\n",
        "    tables=text_tables,\n",
        "    question=\"What is the average salary of employees hired after 2020 grouped by department?\"\n",
        ")"
      ]
    },
    {
      "cell_type": "code",
      "execution_count": null,
      "id": "a0eeb79e-caf1-4f48-9897-168d95d2ae37",
      "metadata": {
        "id": "a0eeb79e-caf1-4f48-9897-168d95d2ae37",
        "outputId": "559af36c-fba9-4d09-9d45-fe3e21f87684",
        "colab": {
          "base_uri": "https://localhost:8080/"
        }
      },
      "outputs": [
        {
          "output_type": "stream",
          "name": "stdout",
          "text": [
            "{\n",
            "    \"tables\": [\"employees\", \"salary\"]\n",
            "}\n"
          ]
        }
      ],
      "source": [
        "print(return_OAI(pqt3))"
      ]
    },
    {
      "cell_type": "markdown",
      "id": "321bb9a2-4937-4e9a-a31b-7049cb8f5aa3",
      "metadata": {
        "id": "321bb9a2-4937-4e9a-a31b-7049cb8f5aa3"
      },
      "source": [
        "# Exercise\n",
        " - Complete the prompts similar to what we did in class.\n",
        "     - Try a few versions if you have time\n",
        "     - Be creative\n",
        " - Write a one page report summarizing your findings.\n",
        "     - Were there variations that didn't work well? i.e., where GPT either hallucinated or wrong\n",
        " - What did you learn?"
      ]
    },
    {
      "cell_type": "code",
      "source": [
        "# Table and definitions sample with enriched details\n",
        "data2 = {\n",
        "    'table': ['employees', 'salary', 'studies'],\n",
        "    'definition': [\n",
        "        'Core employee information: name (e.g., \"Jane Doe\"), ID (unique identifier), department (e.g., \"HR\"), hire date (e.g., \"2022-03-15\")',\n",
        "        'Salary records: employee ID (links to employees), year (e.g., \"2023\"), base salary (e.g., \"$75,000\"), bonuses, deductions',\n",
        "        'Educational background: employee ID (links to employees), institution (e.g., \"Stanford\"), degree (e.g., \"M.S. Data Science\"), graduation year (e.g., \"2020\")'\n",
        "    ]\n",
        "}"
      ],
      "metadata": {
        "id": "lAocML6U3JoZ"
      },
      "id": "lAocML6U3JoZ",
      "execution_count": null,
      "outputs": []
    },
    {
      "cell_type": "code",
      "source": [
        "f = pd.DataFrame(data2)\n",
        "text_tables = '\\n'.join([f\"{row['table']}: {row['definition']}\" for index, row in df.iterrows()])"
      ],
      "metadata": {
        "id": "i4SawExm3dk7"
      },
      "id": "i4SawExm3dk7",
      "execution_count": null,
      "outputs": []
    },
    {
      "cell_type": "markdown",
      "source": [
        "#**Analysis of Table Relationships and Data Linkages**"
      ],
      "metadata": {
        "id": "Je18KE-ceZAp"
      },
      "id": "Je18KE-ceZAp"
    },
    {
      "cell_type": "code",
      "source": [
        "# Enhanced prompt with all details, no precomputed answers\n",
        "prompt_question_tables2 = \"\"\"\n",
        "You are an expert database analyst assisting a user with an employee management database. Below are the tables, their detailed definitions, and their relationships. Use this information to provide a clear, actionable response to the user's question.\n",
        "\n",
        "###Database Overview\n",
        "This database tracks employee details, compensation history, and educational qualifications to support HR analytics and career development projects.\n",
        "\n",
        "###Tables\n",
        "{tables}\n",
        "\n",
        "###Relationships Between Tables\n",
        "- employees to salary: one-to-many (Each employee has multiple salary records over time, linked by employee ID as the primary key in 'employees' and foreign key in 'salary').\n",
        "- employees to studies: one-to-many (Each employee can have multiple educational qualifications, linked by employee ID as the primary key in 'employees' and foreign key in 'studies').\n",
        "- salary to studies: no direct relation (These tables connect indirectly through 'employees' via employee ID, but have no direct key linking them).\n",
        "\n",
        "###User Question\n",
        "{question}\n",
        "\n",
        "###Instructions\n",
        "Analyze the user's question and provide a detailed response in JSON format with the following structure:\n",
        "- \"tables\": list of all table names in the database\n",
        "- \"relationships\": list of objects, each with:\n",
        "  - \"table1\": first table name\n",
        "  - \"table2\": second table name\n",
        "  - \"relation_type\": type of relationship (e.g., one-to-many, no direct relation)\n",
        "  - \"description\": explanation of the relationship and how it’s implemented (e.g., key connections)\n",
        "- \"answer\": a concise explanation addressing the user’s question, leveraging the table relationships\n",
        "\n",
        "Focus on clarity, practical examples, and relevance to the user’s goal. Avoid assumptions beyond the provided schema unless explicitly needed to illustrate a point.\n",
        "\"\"\"\n"
      ],
      "metadata": {
        "id": "26FVPerbImwh"
      },
      "id": "26FVPerbImwh",
      "execution_count": null,
      "outputs": []
    },
    {
      "cell_type": "code",
      "source": [
        "# Format the prompt with a creative user question\n",
        "pqt4 = prompt_question_tables2.format(\n",
        "    tables=text_tables,\n",
        "    question=\"How are the tables linked together, so I can create a career growth tracker showing salary trends and education for each employee?\"\n",
        ")"
      ],
      "metadata": {
        "id": "2hz8fAC43tlJ"
      },
      "id": "2hz8fAC43tlJ",
      "execution_count": null,
      "outputs": []
    },
    {
      "cell_type": "code",
      "source": [
        "# Execute and print the result\n",
        "print(return_OAI(pqt4))"
      ],
      "metadata": {
        "colab": {
          "base_uri": "https://localhost:8080/"
        },
        "id": "BvKe7mdf3w9h",
        "outputId": "15ed6d76-9e7b-4a14-ae94-dfcef0438274"
      },
      "id": "BvKe7mdf3w9h",
      "execution_count": null,
      "outputs": [
        {
          "output_type": "stream",
          "name": "stdout",
          "text": [
            "```json\n",
            "{\n",
            "    \"tables\": [\"employees\", \"salary\", \"studies\"],\n",
            "    \"relationships\": [\n",
            "        {\n",
            "            \"table1\": \"employees\",\n",
            "            \"table2\": \"salary\",\n",
            "            \"relation_type\": \"one-to-many\",\n",
            "            \"description\": \"Each employee in the 'employees' table can have multiple salary records in the 'salary' table. This relationship is established through the employee ID as the primary key in 'employees' and as a foreign key in 'salary'.\"\n",
            "        },\n",
            "        {\n",
            "            \"table1\": \"employees\",\n",
            "            \"table2\": \"studies\",\n",
            "            \"relation_type\": \"one-to-many\",\n",
            "            \"description\": \"Each employee in the 'employees' table can have multiple educational qualifications in the 'studies' table. This relationship is linked through the employee ID as the primary key in 'employees' and as a foreign key in 'studies'.\"\n",
            "        },\n",
            "        {\n",
            "            \"table1\": \"salary\",\n",
            "            \"table2\": \"studies\",\n",
            "            \"relation_type\": \"no direct relation\",\n",
            "            \"description\": \"There is no direct relationship between the 'salary' and 'studies' tables. However, both tables indirectly connect to the 'employees' table through the employee ID, allowing for a comprehensive analysis of an employee's salary trends and educational qualifications.\"\n",
            "        }\n",
            "    ],\n",
            "    \"answer\": \"To create a career growth tracker showing salary trends and education for each employee, you can leverage the one-to-many relationships between the 'employees' table and the 'salary' table, as well as between the 'employees' table and the 'studies' table. By querying these tables based on the employee ID, you can track changes in salary over time and educational qualifications for each employee, providing valuable insights into their career progression.\"\n",
            "}\n",
            "```\n"
          ]
        }
      ]
    },
    {
      "cell_type": "markdown",
      "source": [
        "#**Potential Use Cases and Functional Capabilities of the Database**"
      ],
      "metadata": {
        "id": "qh4m9daNeh3x"
      },
      "id": "qh4m9daNeh3x"
    },
    {
      "cell_type": "code",
      "source": [
        "prompt_question_tables3 = \"\"\"\n",
        "You are a seasoned SQL consulting expert assisting a user with their employee management database. Below are the tables, their detailed definitions, and their relationships. Use this information to provide an impressive, actionable response to the user's question about what tasks their database can support.\n",
        "\n",
        "###Database Overview\n",
        "This database tracks employee details, compensation history, and educational qualifications to empower HR analytics, workforce planning, and career development initiatives.\n",
        "\n",
        "###Tables\n",
        "{tables}\n",
        "\n",
        "###Relationships Between Tables\n",
        "- employees to salary: one-to-many (Each employee has multiple salary records over time, linked by employee ID as the primary key in 'employees' and foreign key in 'salary').\n",
        "- employees to studies: one-to-many (Each employee can have multiple educational qualifications, linked by employee ID as the primary key in 'employees' and foreign key in 'studies').\n",
        "- salary to studies: no direct relation (These tables connect indirectly through 'employees' via employee ID, but have no direct key linking them).\n",
        "\n",
        "###User Question\n",
        "What tasks can my database help me accomplish?\n",
        "\n",
        "###Instructions\n",
        "Analyze the database schema and relationships, then provide a detailed response in JSON format with the following structure:\n",
        "- \"tables\": list of all table names in the database\n",
        "- \"capabilities\": list of objects, each with:\n",
        "  - \"task\": a specific task phrased as \"Track [X] and identify [Y]\" (e.g., \"Track salary trends and identify top earners\")\n",
        "  - \"description\": a practical, impressive explanation of how the database enables this task, using SQL-relevant insights (e.g., joins, aggregations)\n",
        "Focus on delivering at least three creative, high-value use cases that highlight the database’s potential. Use confident, expert-level language to inspire the user as a top-tier consultant.\n",
        "\"\"\""
      ],
      "metadata": {
        "id": "UMtrtbfB7wdf"
      },
      "id": "UMtrtbfB7wdf",
      "execution_count": null,
      "outputs": []
    },
    {
      "cell_type": "code",
      "source": [
        "# Format the prompt with a creative user question\n",
        "pqt5 = prompt_question_tables3.format(\n",
        "    tables=text_tables,\n",
        "    question=\"What tasks can my database help me accomplish?\"\n",
        ")"
      ],
      "metadata": {
        "id": "mOMFYSja8F59"
      },
      "id": "mOMFYSja8F59",
      "execution_count": null,
      "outputs": []
    },
    {
      "cell_type": "code",
      "source": [
        "# Execute and print the result\n",
        "print(return_OAI(pqt5))"
      ],
      "metadata": {
        "colab": {
          "base_uri": "https://localhost:8080/"
        },
        "id": "CqY3gHMD9hA5",
        "outputId": "7aaf0779-aeae-47c1-b3d8-b2ebc7c4d0ac"
      },
      "id": "CqY3gHMD9hA5",
      "execution_count": null,
      "outputs": [
        {
          "output_type": "stream",
          "name": "stdout",
          "text": [
            "```json\n",
            "{\n",
            "    \"tables\": [\"employees\", \"salary\", \"studies\"],\n",
            "    \"capabilities\": [\n",
            "        {\n",
            "            \"task\": \"Track employee career progression and identify high-potential talents\",\n",
            "            \"description\": \"By joining the 'employees' table with the 'salary' table on employee ID, you can track salary changes over time. Using aggregations like MAX(salary_amount) and MIN(salary_amount), you can identify employees with the highest salary growth rates, indicating high-potential talents deserving of career development opportunities.\"\n",
            "        },\n",
            "        {\n",
            "            \"task\": \"Analyze educational qualifications and identify skill gaps within departments\",\n",
            "            \"description\": \"By joining the 'employees' table with the 'studies' table on employee ID, you can analyze the educational qualifications of employees within each department. Using COUNT(degree) by department, you can identify departments with a higher percentage of employees holding advanced degrees, highlighting potential skill gaps that may require targeted training or recruitment efforts.\"\n",
            "        },\n",
            "        {\n",
            "            \"task\": \"Forecast workforce planning needs based on historical compensation data\",\n",
            "            \"description\": \"By aggregating salary data from the 'salary' table over time, you can identify trends in compensation growth rates by department or job role. By applying statistical functions like AVG(salary_amount) and forecasting techniques, you can predict future compensation trends, enabling proactive workforce planning to attract and retain top talent in a competitive market.\"\n",
            "        }\n",
            "    ]\n",
            "}\n",
            "```\n"
          ]
        }
      ]
    },
    {
      "cell_type": "markdown",
      "source": [
        "#**Types of SQL Queries Supported and Their Applications**"
      ],
      "metadata": {
        "id": "dqU2VR36erAT"
      },
      "id": "dqU2VR36erAT"
    },
    {
      "cell_type": "code",
      "source": [
        "prompt_question_tables4 = \"\"\"\n",
        "You are an elite SQL consultant guiding a user through their employee management database. Below are the tables, their detailed definitions, and their relationships. Leverage this schema to deliver a standout response to the user's question about SQL query capabilities.\n",
        "\n",
        "###Database Overview\n",
        "This database captures employee profiles, salary histories, and educational backgrounds, designed to fuel advanced HR analytics and data-driven decisions.\n",
        "\n",
        "###Tables\n",
        "{tables}\n",
        "\n",
        "###Relationships Between Tables\n",
        "- employees to salary: one-to-many (Each employee has multiple salary records over time, linked by employee ID as the primary key in 'employees' and foreign key in 'salary').\n",
        "- employees to studies: one-to-many (Each employee can have multiple educational qualifications, linked by employee ID as the primary key in 'employees' and foreign key in 'studies').\n",
        "- salary to studies: no direct relation (These tables connect indirectly through 'employees' via employee ID, but have no direct key linking them).\n",
        "\n",
        "###User Question\n",
        "What types of SQL queries can my database support?\n",
        "\n",
        "###Instructions\n",
        "Examine the database structure and relationships, then provide a detailed response in JSON format with the following structure:\n",
        "- \"tables\": list of all table names in the database\n",
        "- \"query_types\": list of objects, each with:\n",
        "  - \"query_type\": a specific SQL query type (e.g., \"Aggregation queries\")\n",
        "  - \"description\": a compelling explanation of how the database supports this query type, including example use cases and SQL techniques\n",
        "Offer at least three distinct query types, showcasing the database’s versatility. Use persuasive, expert-level language to demonstrate your SQL mastery and excite the user about their data’s potential.\n",
        "\"\"\""
      ],
      "metadata": {
        "id": "iXnjRQFw_3rY"
      },
      "id": "iXnjRQFw_3rY",
      "execution_count": null,
      "outputs": []
    },
    {
      "cell_type": "code",
      "source": [
        "# Format the prompt with a creative user question\n",
        "pqt6 = prompt_question_tables4.format(\n",
        "    tables=text_tables,\n",
        "    question=\"What types of SQL queries can my database support?\"\n",
        ")"
      ],
      "metadata": {
        "id": "ikmItdyrAMQH"
      },
      "id": "ikmItdyrAMQH",
      "execution_count": null,
      "outputs": []
    },
    {
      "cell_type": "code",
      "source": [
        "# Execute and print the result\n",
        "print(return_OAI(pqt6))"
      ],
      "metadata": {
        "colab": {
          "base_uri": "https://localhost:8080/"
        },
        "id": "QOo6ojuiAMSX",
        "outputId": "1a56c23c-bf1c-4f9c-aa2f-8ab559879ba0"
      },
      "id": "QOo6ojuiAMSX",
      "execution_count": null,
      "outputs": [
        {
          "output_type": "stream",
          "name": "stdout",
          "text": [
            "{\n",
            "    \"tables\": [\"employees\", \"salary\", \"studies\"],\n",
            "    \"query_types\": [\n",
            "        {\n",
            "            \"query_type\": \"Aggregation queries\",\n",
            "            \"description\": \"Your database fully supports aggregation queries, allowing you to analyze and summarize data across multiple records. For example, you can calculate average salaries per department, total years of experience by educational degree, or the maximum bonus received by employees in a specific year. By using SQL functions like SUM, AVG, COUNT, and MAX along with GROUP BY clauses, you can derive valuable insights for strategic decision-making and performance evaluation.\"\n",
            "        },\n",
            "        {\n",
            "            \"query_type\": \"Join queries\",\n",
            "            \"description\": \"With the relational structure in your database, join queries are a powerful tool to combine data from multiple tables. You can retrieve comprehensive employee profiles by joining the 'employees' table with 'salary' and 'studies' tables to get a holistic view of each employee's career progression, compensation history, and educational background. Utilize INNER JOIN, LEFT JOIN, or even CROSS JOIN to merge data based on common keys like employee ID, enabling you to generate detailed reports for talent management and resource allocation.\"\n",
            "        },\n",
            "        {\n",
            "            \"query_type\": \"Subquery queries\",\n",
            "            \"description\": \"The database's design allows for complex subquery queries, enabling you to nest queries within a larger query to perform advanced analysis. For instance, you can use a subquery to find employees who have a salary above the average for their department, or to identify individuals with the highest level of education within each team. By leveraging subqueries in SELECT, WHERE, or HAVING clauses, you can extract specific insights that would be challenging to obtain with simple queries, empowering you to uncover hidden patterns and outliers in your workforce data.\"\n",
            "        }\n",
            "    ]\n",
            "}\n"
          ]
        }
      ]
    },
    {
      "cell_type": "markdown",
      "source": [
        "\n",
        "\n",
        "# **Analysis of SQL Database Prompt Responses with OpenAI API**\n",
        "\n",
        "## **Objective:**\n",
        "The purpose of this experiment was to evaluate the effectiveness of various structured prompts in generating accurate and insightful responses regarding an employee management database. The goal was to analyze the database's structure, relationships, potential use cases, and supported SQL queries.\n",
        "\n",
        "## **Findings:**\n",
        "Several variations of prompts were tested, each designed to extract meaningful insights about the database. The responses were evaluated for correctness, coherence, and practical value.\n",
        "\n",
        "### **1. Analysis of Table Relationships and Data Linkages**\n",
        "- The output correctly identified the relationships between tables (one-to-many relationships between `employees` and both `salary` and `studies`).\n",
        "- It successfully described how these relationships facilitate career growth tracking.\n",
        "- No hallucinations or errors were detected in the response structure.\n",
        "\n",
        "### **2. Potential Use Cases and Functional Capabilities of the Database**\n",
        "- The response highlighted valuable HR tasks, such as tracking salary trends, identifying top performers, and analyzing education's impact on compensation.\n",
        "- The generated use cases were relevant and well-articulated.\n",
        "- Some minor redundancy was noted in the task descriptions.\n",
        "\n",
        "### **3. Types of SQL Queries Supported and Their Applications**\n",
        "- The AI provided well-structured explanations for query types (aggregations, joins, filtering, and ranking).\n",
        "- Example use cases were contextually appropriate, aligning well with the database schema.\n",
        "- No significant errors were observed, though additional real-world SQL examples could improve response quality.\n",
        "\n",
        "## **Challenges & Limitations:**\n",
        "- In some instances, the AI output included generic insights that did not fully leverage the provided schema.\n",
        "- While the AI did not hallucinate relationships, there were occasional oversimplifications in descriptions of data usage.\n",
        "- The lack of real SQL code examples in certain responses limited practical applicability.\n",
        "\n",
        "## **Lessons Learned:**\n",
        "- Detailed prompts that specify relationships explicitly help mitigate AI-generated assumptions.\n",
        "- Providing a structured response format enhances clarity and usability of the output.\n",
        "- Encouraging the AI to include SQL snippets could further improve response quality.\n",
        "- Fine-tuning the balance between brevity and detail ensures responses remain insightful without being overly verbose.\n",
        "\n",
        "## **Conclusion:**\n",
        "The structured prompt approach proved highly effective in extracting meaningful database insights. While the responses were mostly accurate and useful, minor refinements, such as including more SQL-specific examples, could further enhance their value. Future work could focus on refining prompt design to encourage more precise, context-aware responses.\n",
        "\n"
      ],
      "metadata": {
        "id": "WUSKN7z-ALkG"
      },
      "id": "WUSKN7z-ALkG"
    }
  ],
  "metadata": {
    "colab": {
      "provenance": []
    },
    "kernelspec": {
      "display_name": "Python 3 (ipykernel)",
      "language": "python",
      "name": "python3"
    },
    "language_info": {
      "codemirror_mode": {
        "name": "ipython",
        "version": 3
      },
      "file_extension": ".py",
      "mimetype": "text/x-python",
      "name": "python",
      "nbconvert_exporter": "python",
      "pygments_lexer": "ipython3",
      "version": "3.11.8"
    }
  },
  "nbformat": 4,
  "nbformat_minor": 5
}